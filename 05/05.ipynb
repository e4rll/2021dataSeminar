{
 "cells": [
  {
   "cell_type": "markdown",
   "metadata": {},
   "source": [
    "[![Open In Colab](https://colab.research.google.com/assets/colab-badge.svg)](https://colab.research.google.com/github/peaceiris/emoji-ime-dictionary/blob/master/generate.ipynb)"
   ]
  },
  {
   "cell_type": "markdown",
   "metadata": {},
   "source": [
    "# 第05回データ分析勉強会（2020/01/17）\n",
    "## データの可視化 ~ kickstart project 2回目~\n",
    "### 使用データ：[Kickstarter Projects](https://www.kaggle.com/kemical/kickstarter-projects) <br>\n",
    "参考URL：<br>\n",
    "[テービーテックのデータサイエンス \"Kaggleに挑戦しよう！　～コード説明１～\"](https://ds-blog.tbtech.co.jp/entry/2019/04/19/Kaggle%E3%81%AB%E6%8C%91%E6%88%A6%E3%81%97%E3%82%88%E3%81%86%EF%BC%81_%EF%BD%9E%E3%82%B3%E3%83%BC%E3%83%89%E8%AA%AC%E6%98%8E%EF%BC%91%EF%BD%9E)<br>\n",
    "[テービーテックのデータサイエンス \"Kaggleに挑戦しよう！　～コード説明２～\"](https://ds-blog.tbtech.co.jp/entry/2019/04/27/Kaggle%E3%81%AB%E6%8C%91%E6%88%A6%E3%81%97%E3%82%88%E3%81%86%EF%BC%81_%EF%BD%9E%E3%82%B3%E3%83%BC%E3%83%89%E8%AA%AC%E6%98%8E%EF%BC%92%EF%BD%9E)"
   ]
  },
  {
   "cell_type": "markdown",
   "metadata": {},
   "source": [
    "# import libraries"
   ]
  },
  {
   "cell_type": "code",
   "execution_count": null,
   "metadata": {},
   "outputs": [],
   "source": [
    "import pandas as pd\n",
    "import numpy as np\n",
    "import matplotlib.pyplot as plt\n",
    "#%matplotlib inline  #matplotlibのグラフを表示する\n",
    "import seaborn as sns #matplotlibより美しいグラフの描画\n",
    "from sklearn.preprocessing import StandardScaler #preprocessing：前処理  StandardScaler：標準化\n",
    "from sklearn.model_selection import train_test_split #データを訓練データとテストデータに分割する\n",
    "from sklearn.linear_model import SGDClassifier #クラス分類をする\n",
    "from sklearn.metrics import log_loss, accuracy_score, precision_recall_fscore_support, confusion_matrix \n",
    "#log_loss：対数尤度 ,accuracy_score：正答率 ,precision_recall_fscore_support：適合率,再現率,F1値 ,confusion_matrix：クロス集計表\n",
    "from sklearn.metrics import mean_absolute_error #平均絶対誤差\n",
    "import datetime as dt #日時を扱う"
   ]
  },
  {
   "cell_type": "markdown",
   "metadata": {},
   "source": [
    "# read data"
   ]
  },
  {
   "cell_type": "code",
   "execution_count": null,
   "metadata": {},
   "outputs": [],
   "source": [
    "from google.colab import drive\n",
    "drive.mount('/content/drive')"
   ]
  },
  {
   "cell_type": "code",
   "execution_count": null,
   "metadata": {},
   "outputs": [],
   "source": [
    "cd 'drive/My Drive'"
   ]
  },
  {
   "cell_type": "code",
   "execution_count": null,
   "metadata": {},
   "outputs": [],
   "source": [
    "import codecs\n",
    "with codecs.open('../data/ks-projects-201612.csv', 'r', 'utf-8', 'ignore') as file:\n",
    "    df = pd.read_csv(file, delimiter=\",\")\n",
    "df.columns = df.columns.str.replace(\" \", \"\")\n",
    "df = df.loc[:, ~df.columns.str.match('Unnamed')]"
   ]
  },
  {
   "cell_type": "markdown",
   "metadata": {},
   "source": [
    "# 前処理"
   ]
  },
  {
   "cell_type": "code",
   "execution_count": null,
   "metadata": {},
   "outputs": [],
   "source": [
    "# 今回のデータでは、そのまま使用することが難しそうな変数がある。例えば、\"deadline\"と\"launched\"。具体的な日付自体を確認して得られるものは無く、それより当該プロジェクトが発足してから締切までの経過日数の方が重要だと考えられるので、経過日数の変数を作成する。\n",
    "df['deadline'] = pd.to_datetime(df['deadline'], errors = 'coerce')\n",
    "df['launched'] = pd.to_datetime(df['launched'], errors = 'coerce')\n",
    "df['period'] = (df['deadline'] - df['launched']).dt.days\n",
    "df = df.drop(['deadline', 'launched'], axis=1)\n",
    "\n",
    "# 型を変える\n",
    "df['goal'] = pd.to_numeric(df['goal'], errors ='coerce')\n",
    "df['pledged'] = pd.to_numeric(df['pledged'], errors ='coerce')\n",
    "df['backers'] = pd.to_numeric(df['backers'], errors ='coerce')\n",
    "df['usdpledged'] = pd.to_numeric(df['usdpledged'], errors ='coerce')\n",
    "\n",
    "# 変数を選択\n",
    "df = df.drop(['ID','name','category','country'], axis=1)\n",
    "\n",
    "# 目的変数の二値化\n",
    "df = df[(df['state'] == 'successful') | (df['state'] == 'failed')]\n",
    "df['state'] = list(map(lambda x: 1 if x == \"successful\" else 0, df['state']))\n",
    "\n",
    "# 欠損値処理\n",
    "df = df.dropna()\n",
    "df.reset_index(inplace=True, drop=True)"
   ]
  },
  {
   "cell_type": "code",
   "execution_count": null,
   "metadata": {},
   "outputs": [],
   "source": [
    "df"
   ]
  },
  {
   "cell_type": "markdown",
   "metadata": {},
   "source": [
    "# 可視化"
   ]
  },
  {
   "cell_type": "code",
   "execution_count": null,
   "metadata": {},
   "outputs": [],
   "source": [
    "# 円グラフ\n",
    "plt.pie(df['state'].value_counts(),labels=['failed','successful'], autopct=\"%.1f%%\")\n",
    "plt.show()\n",
    "\n",
    "# ヒストグラム\n",
    "plt.hist(df['main_category'])\n",
    "plt.show()\n",
    "\n",
    "# 散布図\n",
    "plt.plot(df['pledged'], df['usdpledged'],\"o\")\n",
    "plt.show()"
   ]
  },
  {
   "cell_type": "markdown",
   "metadata": {},
   "source": [
    "### 問題1：main_catagoryについて円グラフを表示してください。"
   ]
  },
  {
   "cell_type": "code",
   "execution_count": null,
   "metadata": {},
   "outputs": [],
   "source": []
  },
  {
   "cell_type": "code",
   "execution_count": null,
   "metadata": {},
   "outputs": [],
   "source": [
    "plt.figure(figsize=[12,12])\n",
    "plt.hist(df['main_category'])\n",
    "plt.title('Main Category Histgram', size=36)\n",
    "plt.xlabel('Main Category',size=24)\n",
    "plt.ylabel('Frequency', size=24)\n",
    "plt.xticks(rotation=90)\n",
    "plt.show()\n",
    "\n",
    "\n",
    "freq = list(df['main_category'].value_counts())\n",
    "label = list(df['main_category'].value_counts().index)\n",
    "plt.figure(figsize=[12,12])\n",
    "plt.bar(label, freq)\n",
    "plt.title('Main Category Histgram', size=36)\n",
    "plt.xlabel('Main Category',size=24)\n",
    "plt.ylabel('Frequency', size=24)\n",
    "plt.xticks(rotation=90, size=16)\n",
    "plt.yticks(size=16)\n",
    "plt.show()\n",
    "\n",
    "plt.figure(figsize=[12,12])\n",
    "plt.barh(label ,freq)\n",
    "plt.title('Main Category Histgram', size=36)\n",
    "plt.xlabel('Main Category',size=24)\n",
    "plt.ylabel('Frequency', size=24)\n",
    "plt.xticks(size=16)\n",
    "plt.yticks(size=16)\n",
    "plt.show()\n"
   ]
  },
  {
   "cell_type": "markdown",
   "metadata": {},
   "source": [
    "### 問題2：currencyについてヒストグラムを作成してください\n",
    "条件：x軸のラベル名は「Currency」、y軸のラベルは「Freq」、それぞれラベルの大きさは26としてください。"
   ]
  },
  {
   "cell_type": "code",
   "execution_count": null,
   "metadata": {},
   "outputs": [],
   "source": []
  },
  {
   "cell_type": "code",
   "execution_count": null,
   "metadata": {},
   "outputs": [],
   "source": [
    "# 相関係数\n",
    "print(df.corr())\n",
    "\n",
    "# 相関係数の可視化\n",
    "sns.heatmap(df.corr(), cmap='Blues', annot=True, fmt='1.3f')\n",
    "plt.show()\n",
    "\n",
    "plt.grid(which='major',color='black',linestyle=':')\n",
    "plt.grid(which='minor',color='black',linestyle=':')\n",
    "plt.plot(df['pledged'], df['usdpledged'], 'o')\n",
    "plt.show()\n",
    "\n",
    "# 説明変数の相関をなくす\n",
    "df_pledged = pd.DataFrame({'pledged' : df['pledged'], 'usdpledged' : df['usdpledged']})\n",
    "df_pledged.reset_index(inplace=True, drop=True)\n",
    "cov = np.cov(df_pledged, rowvar=0)\n",
    "_, S = np.linalg.eig(cov)\n",
    "pledged_decorr = np.dot(S.T, df_pledged.T).T\n",
    "\n",
    "print('相関係数: {:.3f}'.format(np.corrcoef(pledged_decorr[:, 0], pledged_decorr[:, 1])[0,1]))\n",
    "plt.grid(which='major',color='black',linestyle=':')\n",
    "plt.grid(which='minor',color='black',linestyle=':')\n",
    "plt.plot(pledged_decorr[:, 0], pledged_decorr[:, 1], 'o')\n",
    "plt.show()\n",
    "\n",
    "# 無相関化した変数を元のデータセットに返す。\n",
    "pledged_decorr = pd.DataFrame(pledged_decorr, columns=['pledged','uspledged'])\n",
    "print(pledged_decorr)\n",
    "df['pledged'] = pledged_decorr.loc[:,'pledged']\n",
    "df['usdpledged'] = pledged_decorr.loc[:,'uspledged']\n",
    "\n",
    "sns.heatmap(df.corr(), cmap='Blues', annot=True, fmt='1.3f')\n",
    "plt.show()\n",
    "\n",
    "df_dummy = pd.get_dummies(df['main_category'])\n",
    "df = pd.concat([df.drop(['main_category'],axis=1),df_dummy],axis=1)\n",
    "df_dummy = pd.get_dummies(df['currency'])\n",
    "df = pd.concat([df.drop(['currency'],axis=1),df_dummy],axis=1)\n",
    "\n"
   ]
  },
  {
   "cell_type": "code",
   "execution_count": null,
   "metadata": {},
   "outputs": [],
   "source": [
    "# ホールドアウト\n",
    "y = df['state'].values\n",
    "X = df.drop('state', axis=1).values\n",
    "test_size = 0.3\n",
    "X_train, X_test, y_train, y_test = train_test_split(X, y, test_size=test_size, random_state=1234)\n",
    "\n",
    "# 標準化\n",
    "stdsc = StandardScaler()\n",
    "X_train = stdsc.fit_transform(X_train)\n",
    "X_test = stdsc.transform(X_test)\n",
    "\n",
    "# 予測\n",
    "clf = SGDClassifier(loss='log', penalty='none', max_iter=10000, fit_intercept=True)\n",
    "#loss：損失関数　max_iter：学習の最大回数　fit_intercept：切片を求める\n",
    "clf.fit(X_train, y_train)\n",
    "y_prd_train = clf.predict(X_train)\n",
    "print('対数尤度 = {:.3f}'.format(- log_loss(y_train, y_prd_train))) # '対数尤度 を表示\n",
    "print('正答率（Accuracy） = {:.3f}%'.format(100 * accuracy_score(y_train, y_prd_train))) # 正答率を表示\n",
    "precision, recall, f1_score, _ = precision_recall_fscore_support(y_train, y_prd_train) #適合率・再現率・F1値を計算\n",
    "print('適合率（Precision） = {:.3f}%'.format(100 * precision[0])) # 適合率を表示\n",
    "print('再現率（Recall） = {:.3f}%'.format(100 * recall[0])) # 再現率を表示\n",
    "print('F1値（F1-score） = {:.3f}%'.format(100 * f1_score[0])) #F1値を表示"
   ]
  },
  {
   "cell_type": "markdown",
   "metadata": {},
   "source": [
    "### 問題3：なぜこんなに良い数値が出たのか調べてみましょう\n",
    "ヒント：特徴量の重要度を可視化してみるといいですね！\n",
    "特徴量の重要度：clf.coef_ (clf.coef_の0行目)\n",
    "特徴量の名前：df.drop('state',axis=1).columns"
   ]
  },
  {
   "cell_type": "code",
   "execution_count": null,
   "metadata": {},
   "outputs": [],
   "source": []
  }
 ],
 "metadata": {
  "kernelspec": {
   "display_name": "Python 3",
   "language": "python",
   "name": "python3"
  },
  "language_info": {
   "codemirror_mode": {
    "name": "ipython",
    "version": 3
   },
   "file_extension": ".py",
   "mimetype": "text/x-python",
   "name": "python",
   "nbconvert_exporter": "python",
   "pygments_lexer": "ipython3",
   "version": "3.7.4"
  }
 },
 "nbformat": 4,
 "nbformat_minor": 4
}
